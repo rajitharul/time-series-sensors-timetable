{
 "cells": [
  {
   "cell_type": "code",
   "execution_count": 1,
   "metadata": {},
   "outputs": [
    {
     "name": "stdout",
     "output_type": "stream",
     "text": [
      "GRACE\n"
     ]
    }
   ],
   "source": [
    "print(\"GRACE\")"
   ]
  },
  {
   "cell_type": "code",
   "execution_count": 2,
   "metadata": {},
   "outputs": [],
   "source": [
    "import numpy as np\n",
    "import matplotlib.pyplot as plt\n",
    "import statsmodels.api as sms\n",
    "import pandas as pd\n",
    "\n",
    "%matplotlib inline"
   ]
  },
  {
   "cell_type": "code",
   "execution_count": 3,
   "metadata": {},
   "outputs": [
    {
     "data": {
      "text/html": [
       "<div>\n",
       "<style scoped>\n",
       "    .dataframe tbody tr th:only-of-type {\n",
       "        vertical-align: middle;\n",
       "    }\n",
       "\n",
       "    .dataframe tbody tr th {\n",
       "        vertical-align: top;\n",
       "    }\n",
       "\n",
       "    .dataframe thead th {\n",
       "        text-align: right;\n",
       "    }\n",
       "</style>\n",
       "<table border=\"1\" class=\"dataframe\">\n",
       "  <thead>\n",
       "    <tr style=\"text-align: right;\">\n",
       "      <th></th>\n",
       "      <th>Unnamed: 0</th>\n",
       "      <th>Timestamp</th>\n",
       "      <th>\\\\DESKTOP-FUOCR3U\\Processor(_Total)\\% Processor Time</th>\n",
       "      <th>\\\\DESKTOP-FUOCR3U\\Processor(_Total)\\% Idle Time</th>\n",
       "      <th>\\\\DESKTOP-FUOCR3U\\Memory\\Available MBytes</th>\n",
       "      <th>\\\\DESKTOP-FUOCR3U\\LogicalDisk(_Total)\\% Disk Time</th>\n",
       "    </tr>\n",
       "  </thead>\n",
       "  <tbody>\n",
       "    <tr>\n",
       "      <th>0</th>\n",
       "      <td>0</td>\n",
       "      <td>2023-04-28 05:59:48.490</td>\n",
       "      <td>13.959073</td>\n",
       "      <td>52.460838</td>\n",
       "      <td>6768</td>\n",
       "      <td>1.661641</td>\n",
       "    </tr>\n",
       "    <tr>\n",
       "      <th>1</th>\n",
       "      <td>1</td>\n",
       "      <td>2023-04-28 06:03:48.490</td>\n",
       "      <td>2.257027</td>\n",
       "      <td>72.309335</td>\n",
       "      <td>6830</td>\n",
       "      <td>0.121271</td>\n",
       "    </tr>\n",
       "    <tr>\n",
       "      <th>2</th>\n",
       "      <td>2</td>\n",
       "      <td>2023-04-28 06:07:48.490</td>\n",
       "      <td>4.805736</td>\n",
       "      <td>50.994980</td>\n",
       "      <td>6676</td>\n",
       "      <td>0.412856</td>\n",
       "    </tr>\n",
       "    <tr>\n",
       "      <th>3</th>\n",
       "      <td>3</td>\n",
       "      <td>2023-04-28 06:11:48.490</td>\n",
       "      <td>22.811708</td>\n",
       "      <td>40.117944</td>\n",
       "      <td>4861</td>\n",
       "      <td>2.065038</td>\n",
       "    </tr>\n",
       "    <tr>\n",
       "      <th>4</th>\n",
       "      <td>4</td>\n",
       "      <td>2023-04-28 06:15:48.490</td>\n",
       "      <td>8.991300</td>\n",
       "      <td>54.365496</td>\n",
       "      <td>4775</td>\n",
       "      <td>0.318020</td>\n",
       "    </tr>\n",
       "  </tbody>\n",
       "</table>\n",
       "</div>"
      ],
      "text/plain": [
       "   Unnamed: 0                Timestamp  \\\n",
       "0           0  2023-04-28 05:59:48.490   \n",
       "1           1  2023-04-28 06:03:48.490   \n",
       "2           2  2023-04-28 06:07:48.490   \n",
       "3           3  2023-04-28 06:11:48.490   \n",
       "4           4  2023-04-28 06:15:48.490   \n",
       "\n",
       "   \\\\DESKTOP-FUOCR3U\\Processor(_Total)\\% Processor Time  \\\n",
       "0                                          13.959073      \n",
       "1                                           2.257027      \n",
       "2                                           4.805736      \n",
       "3                                          22.811708      \n",
       "4                                           8.991300      \n",
       "\n",
       "   \\\\DESKTOP-FUOCR3U\\Processor(_Total)\\% Idle Time  \\\n",
       "0                                        52.460838   \n",
       "1                                        72.309335   \n",
       "2                                        50.994980   \n",
       "3                                        40.117944   \n",
       "4                                        54.365496   \n",
       "\n",
       "   \\\\DESKTOP-FUOCR3U\\Memory\\Available MBytes  \\\n",
       "0                                       6768   \n",
       "1                                       6830   \n",
       "2                                       6676   \n",
       "3                                       4861   \n",
       "4                                       4775   \n",
       "\n",
       "   \\\\DESKTOP-FUOCR3U\\LogicalDisk(_Total)\\% Disk Time  \n",
       "0                                           1.661641  \n",
       "1                                           0.121271  \n",
       "2                                           0.412856  \n",
       "3                                           2.065038  \n",
       "4                                           0.318020  "
      ]
     },
     "execution_count": 3,
     "metadata": {},
     "output_type": "execute_result"
    }
   ],
   "source": [
    "df_train=pd.read_csv('training_data.csv')\n",
    "df_train.head()"
   ]
  },
  {
   "cell_type": "code",
   "execution_count": 4,
   "metadata": {},
   "outputs": [
    {
     "data": {
      "text/plain": [
       "Unnamed: 0                                              0\n",
       "Timestamp                                               0\n",
       "\\\\DESKTOP-FUOCR3U\\Processor(_Total)\\% Processor Time    0\n",
       "\\\\DESKTOP-FUOCR3U\\Processor(_Total)\\% Idle Time         0\n",
       "\\\\DESKTOP-FUOCR3U\\Memory\\Available MBytes               0\n",
       "\\\\DESKTOP-FUOCR3U\\LogicalDisk(_Total)\\% Disk Time       0\n",
       "dtype: int64"
      ]
     },
     "execution_count": 4,
     "metadata": {},
     "output_type": "execute_result"
    }
   ],
   "source": [
    "df_train.isnull().sum()"
   ]
  },
  {
   "cell_type": "code",
   "execution_count": 7,
   "metadata": {},
   "outputs": [
    {
     "data": {
      "text/plain": [
       "'Timestamp'"
      ]
     },
     "execution_count": 7,
     "metadata": {},
     "output_type": "execute_result"
    }
   ],
   "source": [
    "df_train.columns[1]"
   ]
  },
  {
   "cell_type": "code",
   "execution_count": 8,
   "metadata": {},
   "outputs": [],
   "source": [
    "df_train = df_train.rename(columns={df_train.columns[2]: 'Processor Time'})\n",
    "df_train = df_train.rename(columns={df_train.columns[3]: 'Idle Time'})\n",
    "df_train = df_train.rename(columns={df_train.columns[4]: 'Available'})\n",
    "df_train = df_train.rename(columns={df_train.columns[5]: 'Disk Time'})\n"
   ]
  },
  {
   "cell_type": "code",
   "execution_count": 11,
   "metadata": {},
   "outputs": [
    {
     "name": "stdout",
     "output_type": "stream",
     "text": [
      "<class 'pandas.core.frame.DataFrame'>\n",
      "RangeIndex: 8911 entries, 0 to 8910\n",
      "Data columns (total 6 columns):\n",
      " #   Column          Non-Null Count  Dtype  \n",
      "---  ------          --------------  -----  \n",
      " 0   Unnamed: 0      8911 non-null   int64  \n",
      " 1   Timestamp       8911 non-null   object \n",
      " 2   Processor Time  8911 non-null   float64\n",
      " 3   Idle Time       8911 non-null   float64\n",
      " 4   Available       8911 non-null   int64  \n",
      " 5   Disk Time       8911 non-null   float64\n",
      "dtypes: float64(3), int64(2), object(1)\n",
      "memory usage: 417.8+ KB\n"
     ]
    }
   ],
   "source": [
    "df_train.info()"
   ]
  },
  {
   "cell_type": "code",
   "execution_count": 12,
   "metadata": {},
   "outputs": [
    {
     "data": {
      "text/plain": [
       "Unnamed: 0        0\n",
       "Timestamp         0\n",
       "Processor Time    0\n",
       "Idle Time         0\n",
       "Available         0\n",
       "Disk Time         0\n",
       "dtype: int64"
      ]
     },
     "execution_count": 12,
     "metadata": {},
     "output_type": "execute_result"
    }
   ],
   "source": [
    "df_train.isnull().sum()"
   ]
  },
  {
   "cell_type": "code",
   "execution_count": 13,
   "metadata": {},
   "outputs": [],
   "source": [
    "df_train['Timestamp']=pd.to_datetime(df_train['Timestamp'])"
   ]
  },
  {
   "cell_type": "code",
   "execution_count": 14,
   "metadata": {},
   "outputs": [
    {
     "name": "stdout",
     "output_type": "stream",
     "text": [
      "<class 'pandas.core.frame.DataFrame'>\n",
      "RangeIndex: 8911 entries, 0 to 8910\n",
      "Data columns (total 6 columns):\n",
      " #   Column          Non-Null Count  Dtype         \n",
      "---  ------          --------------  -----         \n",
      " 0   Unnamed: 0      8911 non-null   int64         \n",
      " 1   Timestamp       8911 non-null   datetime64[ns]\n",
      " 2   Processor Time  8911 non-null   float64       \n",
      " 3   Idle Time       8911 non-null   float64       \n",
      " 4   Available       8911 non-null   int64         \n",
      " 5   Disk Time       8911 non-null   float64       \n",
      "dtypes: datetime64[ns](1), float64(3), int64(2)\n",
      "memory usage: 417.8 KB\n"
     ]
    }
   ],
   "source": [
    "df_train.info()"
   ]
  },
  {
   "cell_type": "code",
   "execution_count": 15,
   "metadata": {},
   "outputs": [
    {
     "data": {
      "text/html": [
       "<div>\n",
       "<style scoped>\n",
       "    .dataframe tbody tr th:only-of-type {\n",
       "        vertical-align: middle;\n",
       "    }\n",
       "\n",
       "    .dataframe tbody tr th {\n",
       "        vertical-align: top;\n",
       "    }\n",
       "\n",
       "    .dataframe thead th {\n",
       "        text-align: right;\n",
       "    }\n",
       "</style>\n",
       "<table border=\"1\" class=\"dataframe\">\n",
       "  <thead>\n",
       "    <tr style=\"text-align: right;\">\n",
       "      <th></th>\n",
       "      <th>Unnamed: 0</th>\n",
       "      <th>Timestamp</th>\n",
       "      <th>Processor Time</th>\n",
       "      <th>Idle Time</th>\n",
       "      <th>Available</th>\n",
       "      <th>Disk Time</th>\n",
       "    </tr>\n",
       "  </thead>\n",
       "  <tbody>\n",
       "    <tr>\n",
       "      <th>0</th>\n",
       "      <td>0</td>\n",
       "      <td>2023-04-28 05:59:48.490</td>\n",
       "      <td>13.959073</td>\n",
       "      <td>52.460838</td>\n",
       "      <td>6768</td>\n",
       "      <td>1.661641</td>\n",
       "    </tr>\n",
       "    <tr>\n",
       "      <th>1</th>\n",
       "      <td>1</td>\n",
       "      <td>2023-04-28 06:03:48.490</td>\n",
       "      <td>2.257027</td>\n",
       "      <td>72.309335</td>\n",
       "      <td>6830</td>\n",
       "      <td>0.121271</td>\n",
       "    </tr>\n",
       "    <tr>\n",
       "      <th>2</th>\n",
       "      <td>2</td>\n",
       "      <td>2023-04-28 06:07:48.490</td>\n",
       "      <td>4.805736</td>\n",
       "      <td>50.994980</td>\n",
       "      <td>6676</td>\n",
       "      <td>0.412856</td>\n",
       "    </tr>\n",
       "    <tr>\n",
       "      <th>3</th>\n",
       "      <td>3</td>\n",
       "      <td>2023-04-28 06:11:48.490</td>\n",
       "      <td>22.811708</td>\n",
       "      <td>40.117944</td>\n",
       "      <td>4861</td>\n",
       "      <td>2.065038</td>\n",
       "    </tr>\n",
       "    <tr>\n",
       "      <th>4</th>\n",
       "      <td>4</td>\n",
       "      <td>2023-04-28 06:15:48.490</td>\n",
       "      <td>8.991300</td>\n",
       "      <td>54.365496</td>\n",
       "      <td>4775</td>\n",
       "      <td>0.318020</td>\n",
       "    </tr>\n",
       "  </tbody>\n",
       "</table>\n",
       "</div>"
      ],
      "text/plain": [
       "   Unnamed: 0               Timestamp  Processor Time  Idle Time  Available  \\\n",
       "0           0 2023-04-28 05:59:48.490       13.959073  52.460838       6768   \n",
       "1           1 2023-04-28 06:03:48.490        2.257027  72.309335       6830   \n",
       "2           2 2023-04-28 06:07:48.490        4.805736  50.994980       6676   \n",
       "3           3 2023-04-28 06:11:48.490       22.811708  40.117944       4861   \n",
       "4           4 2023-04-28 06:15:48.490        8.991300  54.365496       4775   \n",
       "\n",
       "   Disk Time  \n",
       "0   1.661641  \n",
       "1   0.121271  \n",
       "2   0.412856  \n",
       "3   2.065038  \n",
       "4   0.318020  "
      ]
     },
     "execution_count": 15,
     "metadata": {},
     "output_type": "execute_result"
    }
   ],
   "source": [
    "df_train.head()"
   ]
  },
  {
   "cell_type": "code",
   "execution_count": 16,
   "metadata": {},
   "outputs": [],
   "source": [
    "df_train.set_index('Timestamp',inplace=True)"
   ]
  },
  {
   "cell_type": "code",
   "execution_count": 17,
   "metadata": {},
   "outputs": [
    {
     "data": {
      "text/plain": [
       "<AxesSubplot:xlabel='Timestamp'>"
      ]
     },
     "execution_count": 17,
     "metadata": {},
     "output_type": "execute_result"
    },
    {
     "data": {
      "image/png": "[encoded data removed]",
      "text/plain": [
       "<Figure size 640x480 with 1 Axes>"
      ]
     },
     "metadata": {},
     "output_type": "display_data"
    }
   ],
   "source": [
    "df_train[['Processor Time']].plot()"
   ]
  },
  {
   "cell_type": "code",
   "execution_count": 18,
   "metadata": {},
   "outputs": [
    {
     "data": {
      "text/plain": [
       "<AxesSubplot:xlabel='Timestamp'>"
      ]
     },
     "execution_count": 18,
     "metadata": {},
     "output_type": "execute_result"
    },
    {
     "data": {
      "image/png": "[encoded data removed]",
      "text/plain": [
       "<Figure size 640x480 with 1 Axes>"
      ]
     },
     "metadata": {},
     "output_type": "display_data"
    }
   ],
   "source": [
    "df_train[['Idle Time']].plot()"
   ]
  },
  {
   "cell_type": "code",
   "execution_count": 19,
   "metadata": {},
   "outputs": [],
   "source": [
    "from statsmodels.tsa.stattools import adfuller"
   ]
  },
  {
   "cell_type": "code",
   "execution_count": 20,
   "metadata": {},
   "outputs": [],
   "source": [
    "def adf_test(series):\n",
    "    result=adfuller(series)\n",
    "    print('ADF Statistics: {}'.format(result[0]))\n",
    "    print('p- value: {}'.format(result[1]))\n",
    "    if result[1] <= 0.05:\n",
    "        print(\"strong evidence against the null hypothesis, reject the null hypothesis. Data has no unit root and is stationary\")\n",
    "    else:\n",
    "        print(\"weak evidence against null hypothesis, time series has a unit root, indicating it is non-stationary \")"
   ]
  },
  {
   "cell_type": "code",
   "execution_count": 22,
   "metadata": {},
   "outputs": [
    {
     "name": "stdout",
     "output_type": "stream",
     "text": [
      "ADF Statistics: -4.034283709137057\n",
      "p- value: 0.0012412570084666627\n",
      "strong evidence against the null hypothesis, reject the null hypothesis. Data has no unit root and is stationary\n"
     ]
    }
   ],
   "source": [
    "adf_test(df_train['Idle Time'])"
   ]
  },
  {
   "cell_type": "code",
   "execution_count": 23,
   "metadata": {},
   "outputs": [],
   "source": [
    "from statsmodels.graphics.tsaplots import plot_acf,plot_pacf"
   ]
  },
  {
   "cell_type": "code",
   "execution_count": 24,
   "metadata": {},
   "outputs": [
    {
     "data": {
      "image/png": "[encoded data removed]",
      "text/plain": [
       "<Figure size 640x480 with 1 Axes>"
      ]
     },
     "metadata": {},
     "output_type": "display_data"
    }
   ],
   "source": [
    "acf = plot_acf(df_train['Idle Time'])"
   ]
  },
  {
   "cell_type": "code",
   "execution_count": 25,
   "metadata": {},
   "outputs": [
    {
     "name": "stderr",
     "output_type": "stream",
     "text": [
      "c:\\Users\\Rajith.A\\Anaconda3\\envs\\sgh-ml-prediction-service\\lib\\site-packages\\statsmodels\\graphics\\tsaplots.py:353: FutureWarning: The default method 'yw' can produce PACF values outside of the [-1,1] interval. After 0.13, the default will change tounadjusted Yule-Walker ('ywm'). You can use this method now by setting method='ywm'.\n",
      "  FutureWarning,\n"
     ]
    },
    {
     "data": {
      "image/png": "[encoded data removed]",
      "text/plain": [
       "<Figure size 640x480 with 1 Axes>"
      ]
     },
     "metadata": {},
     "output_type": "display_data"
    }
   ],
   "source": [
    "pacf = plot_pacf(df_train['Idle Time'].dropna())"
   ]
  },
  {
   "cell_type": "code",
   "execution_count": 27,
   "metadata": {},
   "outputs": [
    {
     "data": {
      "text/html": [
       "<div>\n",
       "<style scoped>\n",
       "    .dataframe tbody tr th:only-of-type {\n",
       "        vertical-align: middle;\n",
       "    }\n",
       "\n",
       "    .dataframe tbody tr th {\n",
       "        vertical-align: top;\n",
       "    }\n",
       "\n",
       "    .dataframe thead th {\n",
       "        text-align: right;\n",
       "    }\n",
       "</style>\n",
       "<table border=\"1\" class=\"dataframe\">\n",
       "  <thead>\n",
       "    <tr style=\"text-align: right;\">\n",
       "      <th></th>\n",
       "      <th>Unnamed: 0</th>\n",
       "      <th>Processor Time</th>\n",
       "      <th>Idle Time</th>\n",
       "      <th>Available</th>\n",
       "      <th>Disk Time</th>\n",
       "    </tr>\n",
       "    <tr>\n",
       "      <th>Timestamp</th>\n",
       "      <th></th>\n",
       "      <th></th>\n",
       "      <th></th>\n",
       "      <th></th>\n",
       "      <th></th>\n",
       "    </tr>\n",
       "  </thead>\n",
       "  <tbody>\n",
       "    <tr>\n",
       "      <th>2023-04-28 05:59:48.490</th>\n",
       "      <td>0</td>\n",
       "      <td>13.959073</td>\n",
       "      <td>52.460838</td>\n",
       "      <td>6768</td>\n",
       "      <td>1.661641</td>\n",
       "    </tr>\n",
       "    <tr>\n",
       "      <th>2023-04-28 06:03:48.490</th>\n",
       "      <td>1</td>\n",
       "      <td>2.257027</td>\n",
       "      <td>72.309335</td>\n",
       "      <td>6830</td>\n",
       "      <td>0.121271</td>\n",
       "    </tr>\n",
       "    <tr>\n",
       "      <th>2023-04-28 06:07:48.490</th>\n",
       "      <td>2</td>\n",
       "      <td>4.805736</td>\n",
       "      <td>50.994980</td>\n",
       "      <td>6676</td>\n",
       "      <td>0.412856</td>\n",
       "    </tr>\n",
       "    <tr>\n",
       "      <th>2023-04-28 06:11:48.490</th>\n",
       "      <td>3</td>\n",
       "      <td>22.811708</td>\n",
       "      <td>40.117944</td>\n",
       "      <td>4861</td>\n",
       "      <td>2.065038</td>\n",
       "    </tr>\n",
       "    <tr>\n",
       "      <th>2023-04-28 06:15:48.490</th>\n",
       "      <td>4</td>\n",
       "      <td>8.991300</td>\n",
       "      <td>54.365496</td>\n",
       "      <td>4775</td>\n",
       "      <td>0.318020</td>\n",
       "    </tr>\n",
       "    <tr>\n",
       "      <th>...</th>\n",
       "      <td>...</td>\n",
       "      <td>...</td>\n",
       "      <td>...</td>\n",
       "      <td>...</td>\n",
       "      <td>...</td>\n",
       "    </tr>\n",
       "    <tr>\n",
       "      <th>2023-05-22 23:43:48.490</th>\n",
       "      <td>8906</td>\n",
       "      <td>4.613605</td>\n",
       "      <td>92.355495</td>\n",
       "      <td>8883</td>\n",
       "      <td>0.032694</td>\n",
       "    </tr>\n",
       "    <tr>\n",
       "      <th>2023-05-22 23:47:48.490</th>\n",
       "      <td>8907</td>\n",
       "      <td>4.896507</td>\n",
       "      <td>92.338494</td>\n",
       "      <td>8872</td>\n",
       "      <td>0.032445</td>\n",
       "    </tr>\n",
       "    <tr>\n",
       "      <th>2023-05-22 23:51:48.490</th>\n",
       "      <td>8908</td>\n",
       "      <td>4.652055</td>\n",
       "      <td>92.391400</td>\n",
       "      <td>8869</td>\n",
       "      <td>0.020792</td>\n",
       "    </tr>\n",
       "    <tr>\n",
       "      <th>2023-05-22 23:55:48.490</th>\n",
       "      <td>8909</td>\n",
       "      <td>4.734080</td>\n",
       "      <td>92.438411</td>\n",
       "      <td>8883</td>\n",
       "      <td>0.028768</td>\n",
       "    </tr>\n",
       "    <tr>\n",
       "      <th>2023-05-22 23:59:48.490</th>\n",
       "      <td>8910</td>\n",
       "      <td>4.846961</td>\n",
       "      <td>92.364885</td>\n",
       "      <td>8885</td>\n",
       "      <td>0.023240</td>\n",
       "    </tr>\n",
       "  </tbody>\n",
       "</table>\n",
       "<p>8911 rows × 5 columns</p>\n",
       "</div>"
      ],
      "text/plain": [
       "                         Unnamed: 0  Processor Time  Idle Time  Available  \\\n",
       "Timestamp                                                                   \n",
       "2023-04-28 05:59:48.490           0       13.959073  52.460838       6768   \n",
       "2023-04-28 06:03:48.490           1        2.257027  72.309335       6830   \n",
       "2023-04-28 06:07:48.490           2        4.805736  50.994980       6676   \n",
       "2023-04-28 06:11:48.490           3       22.811708  40.117944       4861   \n",
       "2023-04-28 06:15:48.490           4        8.991300  54.365496       4775   \n",
       "...                             ...             ...        ...        ...   \n",
       "2023-05-22 23:43:48.490        8906        4.613605  92.355495       8883   \n",
       "2023-05-22 23:47:48.490        8907        4.896507  92.338494       8872   \n",
       "2023-05-22 23:51:48.490        8908        4.652055  92.391400       8869   \n",
       "2023-05-22 23:55:48.490        8909        4.734080  92.438411       8883   \n",
       "2023-05-22 23:59:48.490        8910        4.846961  92.364885       8885   \n",
       "\n",
       "                         Disk Time  \n",
       "Timestamp                           \n",
       "2023-04-28 05:59:48.490   1.661641  \n",
       "2023-04-28 06:03:48.490   0.121271  \n",
       "2023-04-28 06:07:48.490   0.412856  \n",
       "2023-04-28 06:11:48.490   2.065038  \n",
       "2023-04-28 06:15:48.490   0.318020  \n",
       "...                            ...  \n",
       "2023-05-22 23:43:48.490   0.032694  \n",
       "2023-05-22 23:47:48.490   0.032445  \n",
       "2023-05-22 23:51:48.490   0.020792  \n",
       "2023-05-22 23:55:48.490   0.028768  \n",
       "2023-05-22 23:59:48.490   0.023240  \n",
       "\n",
       "[8911 rows x 5 columns]"
      ]
     },
     "execution_count": 27,
     "metadata": {},
     "output_type": "execute_result"
    }
   ],
   "source": [
    "df_train"
   ]
  },
  {
   "cell_type": "code",
   "execution_count": 28,
   "metadata": {},
   "outputs": [],
   "source": [
    "## create a ARIMA model\n",
    "from statsmodels.tsa.arima_model import ARIMA"
   ]
  },
  {
   "cell_type": "code",
   "execution_count": 29,
   "metadata": {},
   "outputs": [
    {
     "ename": "NotImplementedError",
     "evalue": "\nstatsmodels.tsa.arima_model.ARMA and statsmodels.tsa.arima_model.ARIMA have\nbeen removed in favor of statsmodels.tsa.arima.model.ARIMA (note the .\nbetween arima and model) and statsmodels.tsa.SARIMAX.\n\nstatsmodels.tsa.arima.model.ARIMA makes use of the statespace framework and\nis both well tested and maintained. It also offers alternative specialized\nparameter estimators.\n",
     "output_type": "error",
     "traceback": [
      "\u001b[1;31m---------------------------------------------------------------------------\u001b[0m",
      "\u001b[1;31mNotImplementedError\u001b[0m                       Traceback (most recent call last)",
      "\u001b[1;32mC:\\RDS_TEMP\\Rajith.A\\ipykernel_10808\\2352374964.py\u001b[0m in \u001b[0;36m<module>\u001b[1;34m\u001b[0m\n\u001b[1;32m----> 1\u001b[1;33m \u001b[0mmodel_ARIMA\u001b[0m\u001b[1;33m=\u001b[0m\u001b[0mARIMA\u001b[0m\u001b[1;33m(\u001b[0m\u001b[0mdf_train\u001b[0m\u001b[1;33m[\u001b[0m\u001b[1;34m'Idle Time'\u001b[0m\u001b[1;33m]\u001b[0m\u001b[1;33m,\u001b[0m\u001b[0morder\u001b[0m\u001b[1;33m=\u001b[0m\u001b[1;33m(\u001b[0m\u001b[1;36m12\u001b[0m\u001b[1;33m,\u001b[0m\u001b[1;36m0\u001b[0m\u001b[1;33m,\u001b[0m\u001b[1;36m40\u001b[0m\u001b[1;33m)\u001b[0m\u001b[1;33m)\u001b[0m\u001b[1;33m\u001b[0m\u001b[1;33m\u001b[0m\u001b[0m\n\u001b[0m",
      "\u001b[1;32mc:\\Users\\Rajith.A\\Anaconda3\\envs\\sgh-ml-prediction-service\\lib\\site-packages\\statsmodels\\tsa\\arima_model.py\u001b[0m in \u001b[0;36m__init__\u001b[1;34m(self, *args, **kwargs)\u001b[0m\n\u001b[0;32m     43\u001b[0m \u001b[1;33m\u001b[0m\u001b[0m\n\u001b[0;32m     44\u001b[0m     \u001b[1;32mdef\u001b[0m \u001b[0m__init__\u001b[0m\u001b[1;33m(\u001b[0m\u001b[0mself\u001b[0m\u001b[1;33m,\u001b[0m \u001b[1;33m*\u001b[0m\u001b[0margs\u001b[0m\u001b[1;33m,\u001b[0m \u001b[1;33m**\u001b[0m\u001b[0mkwargs\u001b[0m\u001b[1;33m)\u001b[0m\u001b[1;33m:\u001b[0m\u001b[1;33m\u001b[0m\u001b[1;33m\u001b[0m\u001b[0m\n\u001b[1;32m---> 45\u001b[1;33m         \u001b[0msuper\u001b[0m\u001b[1;33m(\u001b[0m\u001b[1;33m)\u001b[0m\u001b[1;33m.\u001b[0m\u001b[0m__init__\u001b[0m\u001b[1;33m(\u001b[0m\u001b[1;33m*\u001b[0m\u001b[0margs\u001b[0m\u001b[1;33m,\u001b[0m \u001b[1;33m**\u001b[0m\u001b[0mkwargs\u001b[0m\u001b[1;33m)\u001b[0m\u001b[1;33m\u001b[0m\u001b[1;33m\u001b[0m\u001b[0m\n\u001b[0m\u001b[0;32m     46\u001b[0m \u001b[1;33m\u001b[0m\u001b[0m\n\u001b[0;32m     47\u001b[0m \u001b[1;33m\u001b[0m\u001b[0m\n",
      "\u001b[1;32mc:\\Users\\Rajith.A\\Anaconda3\\envs\\sgh-ml-prediction-service\\lib\\site-packages\\statsmodels\\tsa\\arima_model.py\u001b[0m in \u001b[0;36m__init__\u001b[1;34m(self, *args, **kwargs)\u001b[0m\n\u001b[0;32m     27\u001b[0m \u001b[1;33m\u001b[0m\u001b[0m\n\u001b[0;32m     28\u001b[0m     \u001b[1;32mdef\u001b[0m \u001b[0m__init__\u001b[0m\u001b[1;33m(\u001b[0m\u001b[0mself\u001b[0m\u001b[1;33m,\u001b[0m \u001b[1;33m*\u001b[0m\u001b[0margs\u001b[0m\u001b[1;33m,\u001b[0m \u001b[1;33m**\u001b[0m\u001b[0mkwargs\u001b[0m\u001b[1;33m)\u001b[0m\u001b[1;33m:\u001b[0m\u001b[1;33m\u001b[0m\u001b[1;33m\u001b[0m\u001b[0m\n\u001b[1;32m---> 29\u001b[1;33m         \u001b[1;32mraise\u001b[0m \u001b[0mNotImplementedError\u001b[0m\u001b[1;33m(\u001b[0m\u001b[0mARIMA_DEPRECATION_ERROR\u001b[0m\u001b[1;33m)\u001b[0m\u001b[1;33m\u001b[0m\u001b[1;33m\u001b[0m\u001b[0m\n\u001b[0m\u001b[0;32m     30\u001b[0m \u001b[1;33m\u001b[0m\u001b[0m\n\u001b[0;32m     31\u001b[0m \u001b[1;33m\u001b[0m\u001b[0m\n",
      "\u001b[1;31mNotImplementedError\u001b[0m: \nstatsmodels.tsa.arima_model.ARMA and statsmodels.tsa.arima_model.ARIMA have\nbeen removed in favor of statsmodels.tsa.arima.model.ARIMA (note the .\nbetween arima and model) and statsmodels.tsa.SARIMAX.\n\nstatsmodels.tsa.arima.model.ARIMA makes use of the statespace framework and\nis both well tested and maintained. It also offers alternative specialized\nparameter estimators.\n"
     ]
    }
   ],
   "source": [
    "model_ARIMA=ARIMA(df_train['Idle Time'],order=(12,0,40))"
   ]
  },
  {
   "cell_type": "code",
   "execution_count": 30,
   "metadata": {},
   "outputs": [
    {
     "name": "stderr",
     "output_type": "stream",
     "text": [
      "c:\\Users\\Rajith.A\\Anaconda3\\envs\\sgh-ml-prediction-service\\lib\\site-packages\\statsmodels\\tsa\\base\\tsa_model.py:471: ValueWarning: No frequency information was provided, so inferred frequency 4T will be used.\n",
      "  self._init_dates(dates, freq)\n",
      "c:\\Users\\Rajith.A\\Anaconda3\\envs\\sgh-ml-prediction-service\\lib\\site-packages\\statsmodels\\tsa\\base\\tsa_model.py:471: ValueWarning: No frequency information was provided, so inferred frequency 4T will be used.\n",
      "  self._init_dates(dates, freq)\n",
      "c:\\Users\\Rajith.A\\Anaconda3\\envs\\sgh-ml-prediction-service\\lib\\site-packages\\statsmodels\\tsa\\base\\tsa_model.py:471: ValueWarning: No frequency information was provided, so inferred frequency 4T will be used.\n",
      "  self._init_dates(dates, freq)\n",
      "c:\\Users\\Rajith.A\\Anaconda3\\envs\\sgh-ml-prediction-service\\lib\\site-packages\\statsmodels\\base\\model.py:606: ConvergenceWarning: Maximum Likelihood optimization failed to converge. Check mle_retvals\n",
      "  ConvergenceWarning)\n"
     ]
    }
   ],
   "source": [
    "import statsmodels.api as sm\n",
    "\n",
    "# Create an ARIMA model\n",
    "arima_model = sm.tsa.ARIMA(df_train['Idle Time'], order=(12,0,40))\n",
    "\n",
    "# Fit the model to the data\n",
    "arima_result = arima_model.fit()\n",
    "\n"
   ]
  },
  {
   "cell_type": "code",
   "execution_count": 31,
   "metadata": {},
   "outputs": [
    {
     "ename": "AttributeError",
     "evalue": "'ARIMA' object has no attribute 'summary'",
     "output_type": "error",
     "traceback": [
      "\u001b[1;31m---------------------------------------------------------------------------\u001b[0m",
      "\u001b[1;31mAttributeError\u001b[0m                            Traceback (most recent call last)",
      "\u001b[1;32mC:\\RDS_TEMP\\Rajith.A\\ipykernel_10808\\1025332352.py\u001b[0m in \u001b[0;36m<module>\u001b[1;34m\u001b[0m\n\u001b[1;32m----> 1\u001b[1;33m \u001b[0marima_model\u001b[0m\u001b[1;33m.\u001b[0m\u001b[0msummary\u001b[0m\u001b[1;33m(\u001b[0m\u001b[1;33m)\u001b[0m\u001b[1;33m\u001b[0m\u001b[1;33m\u001b[0m\u001b[0m\n\u001b[0m",
      "\u001b[1;31mAttributeError\u001b[0m: 'ARIMA' object has no attribute 'summary'"
     ]
    }
   ],
   "source": [
    "arima_result.()"
   ]
  },
  {
   "cell_type": "code",
   "execution_count": null,
   "metadata": {},
   "outputs": [],
   "source": []
  }
 ],
 "metadata": {
  "kernelspec": {
   "display_name": "Python 3",
   "language": "python",
   "name": "python3"
  },
  "language_info": {
   "codemirror_mode": {
    "name": "ipython",
    "version": 3
   },
   "file_extension": ".py",
   "mimetype": "text/x-python",
   "name": "python",
   "nbconvert_exporter": "python",
   "pygments_lexer": "ipython3",
   "version": "3.7.16"
  },
  "orig_nbformat": 4
 },
 "nbformat": 4,
 "nbformat_minor": 2
}
