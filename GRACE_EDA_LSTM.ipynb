{
 "cells": [
  {
   "cell_type": "code",
   "execution_count": 20,
   "metadata": {},
   "outputs": [
    {
     "name": "stdout",
     "output_type": "stream",
     "text": [
      "GRACE\n"
     ]
    }
   ],
   "source": [
    "print(\"GRACE\")"
   ]
  },
  {
   "cell_type": "code",
   "execution_count": 21,
   "metadata": {},
   "outputs": [],
   "source": [
    "import numpy as np\n",
    "import matplotlib.pyplot as plt\n",
    "import statsmodels.api as sms\n",
    "import pandas as pd\n",
    "\n",
    "%matplotlib inline"
   ]
  },
  {
   "cell_type": "code",
   "execution_count": 22,
   "metadata": {},
   "outputs": [
    {
     "data": {
      "text/html": [
       "<div>\n",
       "<style scoped>\n",
       "    .dataframe tbody tr th:only-of-type {\n",
       "        vertical-align: middle;\n",
       "    }\n",
       "\n",
       "    .dataframe tbody tr th {\n",
       "        vertical-align: top;\n",
       "    }\n",
       "\n",
       "    .dataframe thead th {\n",
       "        text-align: right;\n",
       "    }\n",
       "</style>\n",
       "<table border=\"1\" class=\"dataframe\">\n",
       "  <thead>\n",
       "    <tr style=\"text-align: right;\">\n",
       "      <th></th>\n",
       "      <th>Unnamed: 0</th>\n",
       "      <th>Timestamp</th>\n",
       "      <th>\\\\DESKTOP-FUOCR3U\\Processor(_Total)\\% Processor Time</th>\n",
       "      <th>\\\\DESKTOP-FUOCR3U\\Processor(_Total)\\% Idle Time</th>\n",
       "      <th>\\\\DESKTOP-FUOCR3U\\Memory\\Available MBytes</th>\n",
       "      <th>\\\\DESKTOP-FUOCR3U\\LogicalDisk(_Total)\\% Disk Time</th>\n",
       "    </tr>\n",
       "  </thead>\n",
       "  <tbody>\n",
       "    <tr>\n",
       "      <th>0</th>\n",
       "      <td>0</td>\n",
       "      <td>2023-04-28 05:59:48.490</td>\n",
       "      <td>13.959073</td>\n",
       "      <td>52.460838</td>\n",
       "      <td>6768</td>\n",
       "      <td>1.661641</td>\n",
       "    </tr>\n",
       "    <tr>\n",
       "      <th>1</th>\n",
       "      <td>1</td>\n",
       "      <td>2023-04-28 06:03:48.490</td>\n",
       "      <td>2.257027</td>\n",
       "      <td>72.309335</td>\n",
       "      <td>6830</td>\n",
       "      <td>0.121271</td>\n",
       "    </tr>\n",
       "    <tr>\n",
       "      <th>2</th>\n",
       "      <td>2</td>\n",
       "      <td>2023-04-28 06:07:48.490</td>\n",
       "      <td>4.805736</td>\n",
       "      <td>50.994980</td>\n",
       "      <td>6676</td>\n",
       "      <td>0.412856</td>\n",
       "    </tr>\n",
       "    <tr>\n",
       "      <th>3</th>\n",
       "      <td>3</td>\n",
       "      <td>2023-04-28 06:11:48.490</td>\n",
       "      <td>22.811708</td>\n",
       "      <td>40.117944</td>\n",
       "      <td>4861</td>\n",
       "      <td>2.065038</td>\n",
       "    </tr>\n",
       "    <tr>\n",
       "      <th>4</th>\n",
       "      <td>4</td>\n",
       "      <td>2023-04-28 06:15:48.490</td>\n",
       "      <td>8.991300</td>\n",
       "      <td>54.365496</td>\n",
       "      <td>4775</td>\n",
       "      <td>0.318020</td>\n",
       "    </tr>\n",
       "  </tbody>\n",
       "</table>\n",
       "</div>"
      ],
      "text/plain": [
       "   Unnamed: 0                Timestamp  \\\n",
       "0           0  2023-04-28 05:59:48.490   \n",
       "1           1  2023-04-28 06:03:48.490   \n",
       "2           2  2023-04-28 06:07:48.490   \n",
       "3           3  2023-04-28 06:11:48.490   \n",
       "4           4  2023-04-28 06:15:48.490   \n",
       "\n",
       "   \\\\DESKTOP-FUOCR3U\\Processor(_Total)\\% Processor Time  \\\n",
       "0                                          13.959073      \n",
       "1                                           2.257027      \n",
       "2                                           4.805736      \n",
       "3                                          22.811708      \n",
       "4                                           8.991300      \n",
       "\n",
       "   \\\\DESKTOP-FUOCR3U\\Processor(_Total)\\% Idle Time  \\\n",
       "0                                        52.460838   \n",
       "1                                        72.309335   \n",
       "2                                        50.994980   \n",
       "3                                        40.117944   \n",
       "4                                        54.365496   \n",
       "\n",
       "   \\\\DESKTOP-FUOCR3U\\Memory\\Available MBytes  \\\n",
       "0                                       6768   \n",
       "1                                       6830   \n",
       "2                                       6676   \n",
       "3                                       4861   \n",
       "4                                       4775   \n",
       "\n",
       "   \\\\DESKTOP-FUOCR3U\\LogicalDisk(_Total)\\% Disk Time  \n",
       "0                                           1.661641  \n",
       "1                                           0.121271  \n",
       "2                                           0.412856  \n",
       "3                                           2.065038  \n",
       "4                                           0.318020  "
      ]
     },
     "execution_count": 22,
     "metadata": {},
     "output_type": "execute_result"
    }
   ],
   "source": [
    "df_train=pd.read_csv('training_data.csv')\n",
    "df_train.head()"
   ]
  },
  {
   "cell_type": "code",
   "execution_count": 23,
   "metadata": {},
   "outputs": [
    {
     "data": {
      "text/html": [
       "<div>\n",
       "<style scoped>\n",
       "    .dataframe tbody tr th:only-of-type {\n",
       "        vertical-align: middle;\n",
       "    }\n",
       "\n",
       "    .dataframe tbody tr th {\n",
       "        vertical-align: top;\n",
       "    }\n",
       "\n",
       "    .dataframe thead th {\n",
       "        text-align: right;\n",
       "    }\n",
       "</style>\n",
       "<table border=\"1\" class=\"dataframe\">\n",
       "  <thead>\n",
       "    <tr style=\"text-align: right;\">\n",
       "      <th></th>\n",
       "      <th>Unnamed: 0</th>\n",
       "      <th>Timestamp</th>\n",
       "      <th>\\\\DESKTOP-FUOCR3U\\Processor(_Total)\\% Processor Time</th>\n",
       "      <th>\\\\DESKTOP-FUOCR3U\\Processor(_Total)\\% Idle Time</th>\n",
       "      <th>\\\\DESKTOP-FUOCR3U\\Memory\\Available MBytes</th>\n",
       "      <th>\\\\DESKTOP-FUOCR3U\\LogicalDisk(_Total)\\% Disk Time</th>\n",
       "    </tr>\n",
       "  </thead>\n",
       "  <tbody>\n",
       "    <tr>\n",
       "      <th>0</th>\n",
       "      <td>0</td>\n",
       "      <td>2023-05-23 00:03:48.490</td>\n",
       "      <td>4.854721</td>\n",
       "      <td>92.278778</td>\n",
       "      <td>8882</td>\n",
       "      <td>0.026877</td>\n",
       "    </tr>\n",
       "    <tr>\n",
       "      <th>1</th>\n",
       "      <td>1</td>\n",
       "      <td>2023-05-23 00:07:48.490</td>\n",
       "      <td>4.768544</td>\n",
       "      <td>92.328257</td>\n",
       "      <td>8884</td>\n",
       "      <td>0.020212</td>\n",
       "    </tr>\n",
       "    <tr>\n",
       "      <th>2</th>\n",
       "      <td>2</td>\n",
       "      <td>2023-05-23 00:11:48.490</td>\n",
       "      <td>4.684857</td>\n",
       "      <td>92.434268</td>\n",
       "      <td>8885</td>\n",
       "      <td>0.019495</td>\n",
       "    </tr>\n",
       "    <tr>\n",
       "      <th>3</th>\n",
       "      <td>3</td>\n",
       "      <td>2023-05-23 00:15:48.490</td>\n",
       "      <td>4.695365</td>\n",
       "      <td>92.376336</td>\n",
       "      <td>8885</td>\n",
       "      <td>0.024519</td>\n",
       "    </tr>\n",
       "    <tr>\n",
       "      <th>4</th>\n",
       "      <td>4</td>\n",
       "      <td>2023-05-23 00:19:48.490</td>\n",
       "      <td>4.783663</td>\n",
       "      <td>92.327780</td>\n",
       "      <td>8873</td>\n",
       "      <td>0.029278</td>\n",
       "    </tr>\n",
       "  </tbody>\n",
       "</table>\n",
       "</div>"
      ],
      "text/plain": [
       "   Unnamed: 0                Timestamp  \\\n",
       "0           0  2023-05-23 00:03:48.490   \n",
       "1           1  2023-05-23 00:07:48.490   \n",
       "2           2  2023-05-23 00:11:48.490   \n",
       "3           3  2023-05-23 00:15:48.490   \n",
       "4           4  2023-05-23 00:19:48.490   \n",
       "\n",
       "   \\\\DESKTOP-FUOCR3U\\Processor(_Total)\\% Processor Time  \\\n",
       "0                                           4.854721      \n",
       "1                                           4.768544      \n",
       "2                                           4.684857      \n",
       "3                                           4.695365      \n",
       "4                                           4.783663      \n",
       "\n",
       "   \\\\DESKTOP-FUOCR3U\\Processor(_Total)\\% Idle Time  \\\n",
       "0                                        92.278778   \n",
       "1                                        92.328257   \n",
       "2                                        92.434268   \n",
       "3                                        92.376336   \n",
       "4                                        92.327780   \n",
       "\n",
       "   \\\\DESKTOP-FUOCR3U\\Memory\\Available MBytes  \\\n",
       "0                                       8882   \n",
       "1                                       8884   \n",
       "2                                       8885   \n",
       "3                                       8885   \n",
       "4                                       8873   \n",
       "\n",
       "   \\\\DESKTOP-FUOCR3U\\LogicalDisk(_Total)\\% Disk Time  \n",
       "0                                           0.026877  \n",
       "1                                           0.020212  \n",
       "2                                           0.019495  \n",
       "3                                           0.024519  \n",
       "4                                           0.029278  "
      ]
     },
     "execution_count": 23,
     "metadata": {},
     "output_type": "execute_result"
    }
   ],
   "source": [
    "df_test=pd.read_csv('test_data.csv')\n",
    "df_test.head()"
   ]
  },
  {
   "cell_type": "code",
   "execution_count": 24,
   "metadata": {},
   "outputs": [
    {
     "data": {
      "text/plain": [
       "Unnamed: 0                                              0\n",
       "Timestamp                                               0\n",
       "\\\\DESKTOP-FUOCR3U\\Processor(_Total)\\% Processor Time    0\n",
       "\\\\DESKTOP-FUOCR3U\\Processor(_Total)\\% Idle Time         0\n",
       "\\\\DESKTOP-FUOCR3U\\Memory\\Available MBytes               0\n",
       "\\\\DESKTOP-FUOCR3U\\LogicalDisk(_Total)\\% Disk Time       0\n",
       "dtype: int64"
      ]
     },
     "execution_count": 24,
     "metadata": {},
     "output_type": "execute_result"
    }
   ],
   "source": [
    "df_train.isnull().sum()"
   ]
  },
  {
   "cell_type": "code",
   "execution_count": 25,
   "metadata": {},
   "outputs": [
    {
     "data": {
      "text/plain": [
       "'Timestamp'"
      ]
     },
     "execution_count": 25,
     "metadata": {},
     "output_type": "execute_result"
    }
   ],
   "source": [
    "df_train.columns[1]"
   ]
  },
  {
   "cell_type": "code",
   "execution_count": 26,
   "metadata": {},
   "outputs": [],
   "source": [
    "df_train = df_train.rename(columns={df_train.columns[2]: 'Processor Time'})\n",
    "df_train = df_train.rename(columns={df_train.columns[3]: 'Idle Time'})\n",
    "df_train = df_train.rename(columns={df_train.columns[4]: 'Available'})\n",
    "df_train = df_train.rename(columns={df_train.columns[5]: 'Disk Time'})\n"
   ]
  },
  {
   "cell_type": "code",
   "execution_count": 28,
   "metadata": {},
   "outputs": [],
   "source": [
    "df_test = df_test.rename(columns={df_test.columns[2]: 'Processor Time'})\n",
    "df_test = df_test.rename(columns={df_test.columns[3]: 'Idle Time'})\n",
    "df_test = df_test.rename(columns={df_test.columns[4]: 'Available'})\n",
    "df_test = df_test.rename(columns={df_test.columns[5]: 'Disk Time'})"
   ]
  },
  {
   "cell_type": "code",
   "execution_count": 30,
   "metadata": {},
   "outputs": [
    {
     "name": "stdout",
     "output_type": "stream",
     "text": [
      "<class 'pandas.core.frame.DataFrame'>\n",
      "RangeIndex: 8911 entries, 0 to 8910\n",
      "Data columns (total 6 columns):\n",
      " #   Column          Non-Null Count  Dtype  \n",
      "---  ------          --------------  -----  \n",
      " 0   Unnamed: 0      8911 non-null   int64  \n",
      " 1   Timestamp       8911 non-null   object \n",
      " 2   Processor Time  8911 non-null   float64\n",
      " 3   Idle Time       8911 non-null   float64\n",
      " 4   Available       8911 non-null   int64  \n",
      " 5   Disk Time       8911 non-null   float64\n",
      "dtypes: float64(3), int64(2), object(1)\n",
      "memory usage: 417.8+ KB\n"
     ]
    }
   ],
   "source": [
    "df_train.info()"
   ]
  },
  {
   "cell_type": "code",
   "execution_count": 31,
   "metadata": {},
   "outputs": [
    {
     "name": "stdout",
     "output_type": "stream",
     "text": [
      "<class 'pandas.core.frame.DataFrame'>\n",
      "RangeIndex: 2608 entries, 0 to 2607\n",
      "Data columns (total 6 columns):\n",
      " #   Column          Non-Null Count  Dtype  \n",
      "---  ------          --------------  -----  \n",
      " 0   Unnamed: 0      2608 non-null   int64  \n",
      " 1   Timestamp       2608 non-null   object \n",
      " 2   Processor Time  2608 non-null   float64\n",
      " 3   Idle Time       2608 non-null   float64\n",
      " 4   Available       2608 non-null   int64  \n",
      " 5   Disk Time       2608 non-null   float64\n",
      "dtypes: float64(3), int64(2), object(1)\n",
      "memory usage: 122.4+ KB\n"
     ]
    }
   ],
   "source": [
    "df_test.info()"
   ]
  },
  {
   "cell_type": "code",
   "execution_count": 32,
   "metadata": {},
   "outputs": [
    {
     "data": {
      "text/plain": [
       "Unnamed: 0        0\n",
       "Timestamp         0\n",
       "Processor Time    0\n",
       "Idle Time         0\n",
       "Available         0\n",
       "Disk Time         0\n",
       "dtype: int64"
      ]
     },
     "execution_count": 32,
     "metadata": {},
     "output_type": "execute_result"
    }
   ],
   "source": [
    "df_train.isnull().sum()"
   ]
  },
  {
   "cell_type": "code",
   "execution_count": 33,
   "metadata": {},
   "outputs": [],
   "source": [
    "df_train['Timestamp']=pd.to_datetime(df_train['Timestamp'])\n",
    "df_test['Timestamp']=pd.to_datetime(df_test['Timestamp'])"
   ]
  },
  {
   "cell_type": "code",
   "execution_count": 34,
   "metadata": {},
   "outputs": [
    {
     "name": "stdout",
     "output_type": "stream",
     "text": [
      "<class 'pandas.core.frame.DataFrame'>\n",
      "RangeIndex: 8911 entries, 0 to 8910\n",
      "Data columns (total 6 columns):\n",
      " #   Column          Non-Null Count  Dtype         \n",
      "---  ------          --------------  -----         \n",
      " 0   Unnamed: 0      8911 non-null   int64         \n",
      " 1   Timestamp       8911 non-null   datetime64[ns]\n",
      " 2   Processor Time  8911 non-null   float64       \n",
      " 3   Idle Time       8911 non-null   float64       \n",
      " 4   Available       8911 non-null   int64         \n",
      " 5   Disk Time       8911 non-null   float64       \n",
      "dtypes: datetime64[ns](1), float64(3), int64(2)\n",
      "memory usage: 417.8 KB\n"
     ]
    }
   ],
   "source": [
    "df_train.info()"
   ]
  },
  {
   "cell_type": "code",
   "execution_count": 35,
   "metadata": {},
   "outputs": [
    {
     "data": {
      "text/html": [
       "<div>\n",
       "<style scoped>\n",
       "    .dataframe tbody tr th:only-of-type {\n",
       "        vertical-align: middle;\n",
       "    }\n",
       "\n",
       "    .dataframe tbody tr th {\n",
       "        vertical-align: top;\n",
       "    }\n",
       "\n",
       "    .dataframe thead th {\n",
       "        text-align: right;\n",
       "    }\n",
       "</style>\n",
       "<table border=\"1\" class=\"dataframe\">\n",
       "  <thead>\n",
       "    <tr style=\"text-align: right;\">\n",
       "      <th></th>\n",
       "      <th>Unnamed: 0</th>\n",
       "      <th>Timestamp</th>\n",
       "      <th>Processor Time</th>\n",
       "      <th>Idle Time</th>\n",
       "      <th>Available</th>\n",
       "      <th>Disk Time</th>\n",
       "    </tr>\n",
       "  </thead>\n",
       "  <tbody>\n",
       "    <tr>\n",
       "      <th>0</th>\n",
       "      <td>0</td>\n",
       "      <td>2023-04-28 05:59:48.490</td>\n",
       "      <td>13.959073</td>\n",
       "      <td>52.460838</td>\n",
       "      <td>6768</td>\n",
       "      <td>1.661641</td>\n",
       "    </tr>\n",
       "    <tr>\n",
       "      <th>1</th>\n",
       "      <td>1</td>\n",
       "      <td>2023-04-28 06:03:48.490</td>\n",
       "      <td>2.257027</td>\n",
       "      <td>72.309335</td>\n",
       "      <td>6830</td>\n",
       "      <td>0.121271</td>\n",
       "    </tr>\n",
       "    <tr>\n",
       "      <th>2</th>\n",
       "      <td>2</td>\n",
       "      <td>2023-04-28 06:07:48.490</td>\n",
       "      <td>4.805736</td>\n",
       "      <td>50.994980</td>\n",
       "      <td>6676</td>\n",
       "      <td>0.412856</td>\n",
       "    </tr>\n",
       "    <tr>\n",
       "      <th>3</th>\n",
       "      <td>3</td>\n",
       "      <td>2023-04-28 06:11:48.490</td>\n",
       "      <td>22.811708</td>\n",
       "      <td>40.117944</td>\n",
       "      <td>4861</td>\n",
       "      <td>2.065038</td>\n",
       "    </tr>\n",
       "    <tr>\n",
       "      <th>4</th>\n",
       "      <td>4</td>\n",
       "      <td>2023-04-28 06:15:48.490</td>\n",
       "      <td>8.991300</td>\n",
       "      <td>54.365496</td>\n",
       "      <td>4775</td>\n",
       "      <td>0.318020</td>\n",
       "    </tr>\n",
       "  </tbody>\n",
       "</table>\n",
       "</div>"
      ],
      "text/plain": [
       "   Unnamed: 0               Timestamp  Processor Time  Idle Time  Available  \\\n",
       "0           0 2023-04-28 05:59:48.490       13.959073  52.460838       6768   \n",
       "1           1 2023-04-28 06:03:48.490        2.257027  72.309335       6830   \n",
       "2           2 2023-04-28 06:07:48.490        4.805736  50.994980       6676   \n",
       "3           3 2023-04-28 06:11:48.490       22.811708  40.117944       4861   \n",
       "4           4 2023-04-28 06:15:48.490        8.991300  54.365496       4775   \n",
       "\n",
       "   Disk Time  \n",
       "0   1.661641  \n",
       "1   0.121271  \n",
       "2   0.412856  \n",
       "3   2.065038  \n",
       "4   0.318020  "
      ]
     },
     "execution_count": 35,
     "metadata": {},
     "output_type": "execute_result"
    }
   ],
   "source": [
    "df_train.head()"
   ]
  },
  {
   "cell_type": "code",
   "execution_count": 36,
   "metadata": {},
   "outputs": [],
   "source": [
    "df_train.set_index('Timestamp',inplace=True)"
   ]
  },
  {
   "cell_type": "code",
   "execution_count": 37,
   "metadata": {},
   "outputs": [
    {
     "data": {
      "text/plain": [
       "<AxesSubplot:xlabel='Timestamp'>"
      ]
     },
     "execution_count": 37,
     "metadata": {},
     "output_type": "execute_result"
    },
    {
     "data": {
      "image/png": "[encoded data removed]",
      "text/plain": [
       "<Figure size 640x480 with 1 Axes>"
      ]
     },
     "metadata": {},
     "output_type": "display_data"
    }
   ],
   "source": [
    "df_train[['Processor Time']].plot()"
   ]
  },
  {
   "cell_type": "code",
   "execution_count": 38,
   "metadata": {},
   "outputs": [
    {
     "data": {
      "text/plain": [
       "<AxesSubplot:xlabel='Timestamp'>"
      ]
     },
     "execution_count": 38,
     "metadata": {},
     "output_type": "execute_result"
    },
    {
     "data": {
      "image/png": "[encoded data removed]",
      "text/plain": [
       "<Figure size 640x480 with 1 Axes>"
      ]
     },
     "metadata": {},
     "output_type": "display_data"
    }
   ],
   "source": [
    "df_train[['Idle Time']].plot()"
   ]
  },
  {
   "cell_type": "code",
   "execution_count": 39,
   "metadata": {},
   "outputs": [],
   "source": [
    "df1=df_train.reset_index()['Idle Time']"
   ]
  },
  {
   "cell_type": "code",
   "execution_count": 41,
   "metadata": {},
   "outputs": [
    {
     "data": {
      "text/plain": [
       "0       52.460838\n",
       "1       72.309335\n",
       "2       50.994980\n",
       "3       40.117944\n",
       "4       54.365496\n",
       "          ...    \n",
       "8906    92.355495\n",
       "8907    92.338494\n",
       "8908    92.391400\n",
       "8909    92.438411\n",
       "8910    92.364885\n",
       "Name: Idle Time, Length: 8911, dtype: float64"
      ]
     },
     "execution_count": 41,
     "metadata": {},
     "output_type": "execute_result"
    }
   ],
   "source": [
    "df1"
   ]
  },
  {
   "cell_type": "code",
   "execution_count": 43,
   "metadata": {},
   "outputs": [
    {
     "data": {
      "text/plain": [
       "[<matplotlib.lines.Line2D at 0x211df7c0848>]"
      ]
     },
     "execution_count": 43,
     "metadata": {},
     "output_type": "execute_result"
    },
    {
     "data": {
      "image/png": "[encoded data removed]",
      "text/plain": [
       "<Figure size 640x480 with 1 Axes>"
      ]
     },
     "metadata": {},
     "output_type": "display_data"
    }
   ],
   "source": [
    "import matplotlib.pyplot as plt\n",
    "plt.plot(df1)"
   ]
  },
  {
   "cell_type": "code",
   "execution_count": 44,
   "metadata": {},
   "outputs": [],
   "source": [
    "### LSTM Are sensitive to the scale of the data.\n",
    "## Apply Min max Scaler to the Transformation"
   ]
  },
  {
   "cell_type": "code",
   "execution_count": 45,
   "metadata": {},
   "outputs": [],
   "source": [
    "import numpy as np\n"
   ]
  },
  {
   "cell_type": "code",
   "execution_count": 46,
   "metadata": {},
   "outputs": [],
   "source": [
    "\n",
    "from sklearn.preprocessing import MinMaxScaler\n",
    "scaler=MinMaxScaler(feature_range=(0,1))\n",
    "df1=scaler.fit_transform(np.array(df1).reshape(-1,1))"
   ]
  },
  {
   "cell_type": "code",
   "execution_count": 47,
   "metadata": {},
   "outputs": [
    {
     "data": {
      "text/plain": [
       "array([[0.56254909],\n",
       "       [0.77609041],\n",
       "       [0.54677857],\n",
       "       ...,\n",
       "       [0.99214458],\n",
       "       [0.99265035],\n",
       "       [0.99185932]])"
      ]
     },
     "execution_count": 47,
     "metadata": {},
     "output_type": "execute_result"
    }
   ],
   "source": [
    "df1.shape\n",
    "df1"
   ]
  },
  {
   "cell_type": "code",
   "execution_count": 48,
   "metadata": {},
   "outputs": [],
   "source": [
    "##splitting dataset into train and test split\n",
    "training_size=int(len(df1)*0.65)\n",
    "test_size=len(df1)-training_size\n",
    "train_data,test_data=df1[0:training_size,:],df1[training_size:len(df1),:1]"
   ]
  },
  {
   "cell_type": "code",
   "execution_count": 49,
   "metadata": {},
   "outputs": [
    {
     "data": {
      "text/plain": [
       "(5792, 3119)"
      ]
     },
     "execution_count": 49,
     "metadata": {},
     "output_type": "execute_result"
    }
   ],
   "source": [
    "training_size,test_size"
   ]
  },
  {
   "cell_type": "code",
   "execution_count": 50,
   "metadata": {},
   "outputs": [],
   "source": [
    "import numpy\n",
    "# convert an array of values into a dataset matrix\n",
    "def create_dataset(dataset, time_step=1):\n",
    "\tdataX, dataY = [], []\n",
    "\tfor i in range(len(dataset)-time_step-1):\n",
    "\t\ta = dataset[i:(i+time_step), 0]   ###i=0, 0,1,2,3-----99   100 \n",
    "\t\tdataX.append(a)\n",
    "\t\tdataY.append(dataset[i + time_step, 0])\n",
    "\treturn numpy.array(dataX), numpy.array(dataY)"
   ]
  },
  {
   "cell_type": "code",
   "execution_count": 51,
   "metadata": {},
   "outputs": [],
   "source": [
    "# reshape into X=t,t+1,t+2,t+3 and Y=t+4\n",
    "time_step = 100\n",
    "X_train, y_train = create_dataset(train_data, time_step)\n",
    "X_test, ytest = create_dataset(test_data, time_step)"
   ]
  },
  {
   "cell_type": "code",
   "execution_count": 52,
   "metadata": {},
   "outputs": [
    {
     "name": "stdout",
     "output_type": "stream",
     "text": [
      "(5691, 100)\n",
      "(5691,)\n"
     ]
    },
    {
     "data": {
      "text/plain": [
       "(None, None)"
      ]
     },
     "execution_count": 52,
     "metadata": {},
     "output_type": "execute_result"
    }
   ],
   "source": [
    "print(X_train.shape), print(y_train.shape)\n"
   ]
  },
  {
   "cell_type": "code",
   "execution_count": 53,
   "metadata": {},
   "outputs": [
    {
     "name": "stdout",
     "output_type": "stream",
     "text": [
      "(3018, 100)\n",
      "(3018,)\n"
     ]
    },
    {
     "data": {
      "text/plain": [
       "(None, None)"
      ]
     },
     "execution_count": 53,
     "metadata": {},
     "output_type": "execute_result"
    }
   ],
   "source": [
    "print(X_test.shape), print(ytest.shape)\n"
   ]
  },
  {
   "cell_type": "code",
   "execution_count": 54,
   "metadata": {},
   "outputs": [],
   "source": [
    "# reshape input to be [samples, time steps, features] which is required for LSTM\n",
    "X_train =X_train.reshape(X_train.shape[0],X_train.shape[1] , 1)\n",
    "X_test = X_test.reshape(X_test.shape[0],X_test.shape[1] , 1)"
   ]
  },
  {
   "cell_type": "code",
   "execution_count": 55,
   "metadata": {},
   "outputs": [
    {
     "name": "stdout",
     "output_type": "stream",
     "text": [
      "[[[0.56254909]\n",
      "  [0.77609041]\n",
      "  [0.54677857]\n",
      "  ...\n",
      "  [0.13670144]\n",
      "  [0.14750167]\n",
      "  [0.14784785]]\n",
      "\n",
      " [[0.77609041]\n",
      "  [0.54677857]\n",
      "  [0.42975729]\n",
      "  ...\n",
      "  [0.14750167]\n",
      "  [0.14784785]\n",
      "  [0.1412385 ]]\n",
      "\n",
      " [[0.54677857]\n",
      "  [0.42975729]\n",
      "  [0.58304048]\n",
      "  ...\n",
      "  [0.14784785]\n",
      "  [0.1412385 ]\n",
      "  [0.13577797]]\n",
      "\n",
      " ...\n",
      "\n",
      " [[0.99695102]\n",
      "  [0.99634556]\n",
      "  [0.996198  ]\n",
      "  ...\n",
      "  [0.01296128]\n",
      "  [0.00961057]\n",
      "  [0.01369732]]\n",
      "\n",
      " [[0.99634556]\n",
      "  [0.996198  ]\n",
      "  [0.99725045]\n",
      "  ...\n",
      "  [0.00961057]\n",
      "  [0.01369732]\n",
      "  [0.0135288 ]]\n",
      "\n",
      " [[0.996198  ]\n",
      "  [0.99725045]\n",
      "  [0.99699413]\n",
      "  ...\n",
      "  [0.01369732]\n",
      "  [0.0135288 ]\n",
      "  [0.01172907]]]\n"
     ]
    }
   ],
   "source": [
    "print(X_train)"
   ]
  },
  {
   "cell_type": "code",
   "execution_count": 56,
   "metadata": {},
   "outputs": [],
   "source": [
    "### Create the Stacked LSTM model\n",
    "from tensorflow.keras.models import Sequential\n",
    "from tensorflow.keras.layers import Dense\n",
    "from tensorflow.keras.layers import LSTM"
   ]
  },
  {
   "cell_type": "code",
   "execution_count": 57,
   "metadata": {},
   "outputs": [],
   "source": [
    "model=Sequential()\n",
    "model.add(LSTM(50,return_sequences=True,input_shape=(100,1)))\n",
    "model.add(LSTM(50,return_sequences=True))\n",
    "model.add(LSTM(50))\n",
    "model.add(Dense(1))\n",
    "model.compile(loss='mean_squared_error',optimizer='adam')"
   ]
  },
  {
   "cell_type": "code",
   "execution_count": 58,
   "metadata": {},
   "outputs": [
    {
     "name": "stdout",
     "output_type": "stream",
     "text": [
      "Model: \"sequential\"\n",
      "_________________________________________________________________\n",
      " Layer (type)                Output Shape              Param #   \n",
      "=================================================================\n",
      " lstm (LSTM)                 (None, 100, 50)           10400     \n",
      "                                                                 \n",
      " lstm_1 (LSTM)               (None, 100, 50)           20200     \n",
      "                                                                 \n",
      " lstm_2 (LSTM)               (None, 50)                20200     \n",
      "                                                                 \n",
      " dense (Dense)               (None, 1)                 51        \n",
      "                                                                 \n",
      "=================================================================\n",
      "Total params: 50,851\n",
      "Trainable params: 50,851\n",
      "Non-trainable params: 0\n",
      "_________________________________________________________________\n"
     ]
    }
   ],
   "source": [
    "model.summary()\n"
   ]
  },
  {
   "cell_type": "code",
   "execution_count": 59,
   "metadata": {},
   "outputs": [
    {
     "name": "stdout",
     "output_type": "stream",
     "text": [
      "Epoch 1/100\n",
      "89/89 [==============================] - 35s 298ms/step - loss: 0.0399 - val_loss: 0.0048\n",
      "Epoch 2/100\n",
      "44/89 [=============>................] - ETA: 12s - loss: 0.0063"
     ]
    }
   ],
   "source": [
    "model.fit(X_train,y_train,validation_data=(X_test,ytest),epochs=100,batch_size=64,verbose=1)\n"
   ]
  },
  {
   "cell_type": "code",
   "execution_count": null,
   "metadata": {},
   "outputs": [],
   "source": [
    "import tensorflow as tf\n",
    "\n"
   ]
  },
  {
   "cell_type": "code",
   "execution_count": null,
   "metadata": {},
   "outputs": [],
   "source": [
    "### Lets Do the prediction and check performance metrics\n",
    "train_predict=model.predict(X_train)\n",
    "test_predict=model.predict(X_test)"
   ]
  },
  {
   "cell_type": "code",
   "execution_count": null,
   "metadata": {},
   "outputs": [],
   "source": [
    "##Transformback to original form\n",
    "train_predict=scaler.inverse_transform(train_predict)\n",
    "test_predict=scaler.inverse_transform(test_predict)"
   ]
  },
  {
   "cell_type": "code",
   "execution_count": null,
   "metadata": {},
   "outputs": [],
   "source": [
    "### Calculate RMSE performance metrics\n",
    "import math\n",
    "from sklearn.metrics import mean_squared_error\n",
    "math.sqrt(mean_squared_error(y_train,train_predict))"
   ]
  },
  {
   "cell_type": "code",
   "execution_count": null,
   "metadata": {},
   "outputs": [],
   "source": [
    "### Test Data RMSE\n",
    "math.sqrt(mean_squared_error(ytest,test_predict))"
   ]
  },
  {
   "cell_type": "code",
   "execution_count": null,
   "metadata": {},
   "outputs": [],
   "source": [
    "### Plotting \n",
    "# shift train predictions for plotting\n",
    "look_back=100\n",
    "trainPredictPlot = numpy.empty_like(df1)\n",
    "trainPredictPlot[:, :] = np.nan\n",
    "trainPredictPlot[look_back:len(train_predict)+look_back, :] = train_predict\n",
    "# shift test predictions for plotting\n",
    "testPredictPlot = numpy.empty_like(df1)\n",
    "testPredictPlot[:, :] = numpy.nan\n",
    "testPredictPlot[len(train_predict)+(look_back*2)+1:len(df1)-1, :] = test_predict\n",
    "# plot baseline and predictions\n",
    "plt.plot(scaler.inverse_transform(df1))\n",
    "plt.plot(trainPredictPlot)\n",
    "plt.plot(testPredictPlot)\n",
    "plt.show()"
   ]
  }
 ],
 "metadata": {
  "kernelspec": {
   "display_name": "Python 3",
   "language": "python",
   "name": "python3"
  },
  "language_info": {
   "codemirror_mode": {
    "name": "ipython",
    "version": 3
   },
   "file_extension": ".py",
   "mimetype": "text/x-python",
   "name": "python",
   "nbconvert_exporter": "python",
   "pygments_lexer": "ipython3",
   "version": "3.7.16"
  },
  "orig_nbformat": 4
 },
 "nbformat": 4,
 "nbformat_minor": 2
}
